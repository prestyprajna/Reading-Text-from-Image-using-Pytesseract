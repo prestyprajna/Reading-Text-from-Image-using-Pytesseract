{
 "cells": [
  {
   "cell_type": "code",
   "execution_count": 1,
   "id": "810f8f57",
   "metadata": {},
   "outputs": [
    {
     "name": "stdout",
     "output_type": "stream",
     "text": [
      "Hello\n",
      "txt_mudit_b11_1369.jpg\n",
      "--- Start recognize text from image ---\n",
      "REGN. NO : DL5CJ eee\n",
      "\n",
      "REG. DT: 17/05/2014\n",
      "CH.NO : MA3FJEB1S00528720\n",
      "ENO  : 01342368228\n",
      "\n",
      ") NAME : MEGHNA AGGARWAL\n",
      "\n",
      "SMWID OF : MR.RAJNEESH AGGARWAL\n",
      "ADDRESS : H.NO-6/49/2 STREET NO-2 KUNT! MARG\n",
      "VISHWAS NAGAR SHAHDARA\n",
      "\n",
      "DELHI 110032\n",
      "MODEL : SWIFT DZIRE VDI BS4\n",
      "\n",
      "BODY : SALOON NO.OFCYL :4\n",
      "\n",
      "WHEEL BASE : 0 UNLADEN WT : 1060\n",
      "\n",
      "MFG. DT. : 04/2014 SEATINGC :5\n",
      "\n",
      "FUEL : DIESEL STANDING C : Signature\n",
      "\n",
      "= UPTO a CU.CAP : 1248 Registering Auth\n",
      "‘ LONI RD,NEZ\n",
      "\n",
      "17.03. 2016\n",
      "\n"
     ]
    }
   ],
   "source": [
    "import cv2\n",
    "import numpy as np\n",
    "import pytesseract\n",
    "from PIL import Image\n",
    "print (\"Hello\")\n",
    "src_path = \"txt_mudit_b11_1369.jpg\"\n",
    "pytesseract.pytesseract.tesseract_cmd = r\"C:\\\\Program Files\\\\Tesseract-OCR\\\\tesseract.exe\"\n",
    "\n",
    "\n",
    "print (src_path)\n",
    "\n",
    "\n",
    "# Read image with opencv\n",
    "img = cv2.imread(src_path)\n",
    "\n",
    "# Convert to gray\n",
    "img = cv2.cvtColor(img, cv2.COLOR_BGR2GRAY)\n",
    "\n",
    "# Apply dilation and erosion to remove some noise\n",
    "kernel = np.ones((1, 1), np.uint8)\n",
    "img = cv2.dilate(img, kernel, iterations=1)\n",
    "img = cv2.erode(img, kernel, iterations=1)\n",
    "\n",
    "# Write image after removed noise\n",
    "cv2.imwrite(src_path + \"removed_noise.png\", img)\n",
    "\n",
    "#  Apply threshold to get image with only black and white\n",
    "#img = cv2.adaptiveThreshold(img, 255, cv2.ADAPTIVE_THRESH_GAUSSIAN_C, cv2.THRESH_BINARY, 31, 2)\n",
    "\n",
    "# Write the image after apply opencv to do some ...\n",
    "cv2.imwrite(src_path + \"thres.png\", img)\n",
    "\n",
    "# Recognize text with tesseract for python\n",
    "result = pytesseract.image_to_string(Image.open(src_path + \"thres.png\"))\n",
    "\n",
    "\n",
    "# Remove template file\n",
    "#os.remove(temp)\n",
    "\n",
    "\n",
    "print ('--- Start recognize text from image ---')\n",
    "print (result)"
   ]
  },
  {
   "cell_type": "code",
   "execution_count": 2,
   "id": "4caa3784",
   "metadata": {},
   "outputs": [
    {
     "name": "stdout",
     "output_type": "stream",
     "text": [
      "CH.NO : MA3FJEB1S00528720\n"
     ]
    }
   ],
   "source": [
    "#get chasis no\n",
    "from PIL import Image\n",
    "import pytesseract, re\n",
    "m = re.findall(r\"CH.NO : [A-Z0-9]{17}\", result)\n",
    "if m:\n",
    "    print(m[0])"
   ]
  },
  {
   "cell_type": "code",
   "execution_count": 3,
   "id": "0d352ee7",
   "metadata": {},
   "outputs": [
    {
     "name": "stdout",
     "output_type": "stream",
     "text": [
      "ENO  : 01342368228\n"
     ]
    }
   ],
   "source": [
    "#get engine no details\n",
    "n = re.findall(r\"ENO  : [0-9]{11}\", result)\n",
    "if n:\n",
    "    print(n[0])"
   ]
  },
  {
   "cell_type": "code",
   "execution_count": 4,
   "id": "d844dcfc",
   "metadata": {},
   "outputs": [
    {
     "name": "stdout",
     "output_type": "stream",
     "text": [
      "NAME : MEGHNA AGGARWAL\n"
     ]
    }
   ],
   "source": [
    "#get name details\n",
    "o = re.findall(r\"NAME : [A-Z ]{15}\", result)\n",
    "if o:\n",
    "    print(o[0])"
   ]
  },
  {
   "cell_type": "code",
   "execution_count": 5,
   "id": "346cc477",
   "metadata": {},
   "outputs": [
    {
     "name": "stdout",
     "output_type": "stream",
     "text": [
      "REGN. NO : DL5CJ \n"
     ]
    }
   ],
   "source": [
    "#get registration no details\n",
    "p = re.findall(r\"REGN. NO : [A-Z0-9 ]{6}\", result)\n",
    "if p:\n",
    "    print(p[0])"
   ]
  },
  {
   "cell_type": "code",
   "execution_count": 6,
   "id": "1a09f132",
   "metadata": {},
   "outputs": [
    {
     "name": "stdout",
     "output_type": "stream",
     "text": [
      "txt_mudit_b11_1369.jpg\n"
     ]
    }
   ],
   "source": [
    "file_name = src_path\n",
    "print(file_name)"
   ]
  },
  {
   "cell_type": "code",
   "execution_count": 7,
   "id": "d693f5c4",
   "metadata": {},
   "outputs": [
    {
     "name": "stdout",
     "output_type": "stream",
     "text": [
      "('04', '04', '', '2014')\n"
     ]
    }
   ],
   "source": [
    "#get mfg date details\n",
    "q = re.findall(r\"MFG. DT. : ((0?[1-9])|(1[0-2]))\\/(\\d{4})\", result)\n",
    "if q:\n",
    "    print(q[0])"
   ]
  },
  {
   "cell_type": "code",
   "execution_count": 8,
   "id": "03bfeab2",
   "metadata": {},
   "outputs": [
    {
     "name": "stdout",
     "output_type": "stream",
     "text": [
      "[('17', '', '/', '05', '05', '0', '', '', '/')]\n"
     ]
    }
   ],
   "source": [
    "#get reg date details\n",
    "r = re.findall(r\"REG. DT: ([0-2][0-9]|(3)[0-1])(\\/)(((0)[0-9])|((1)[0-2]))(\\/)\\d{4}\", result)\n",
    "if r:\n",
    "    print(r)"
   ]
  },
  {
   "cell_type": "code",
   "execution_count": null,
   "id": "55918f0e",
   "metadata": {},
   "outputs": [],
   "source": []
  }
 ],
 "metadata": {
  "kernelspec": {
   "display_name": "Python 3 (ipykernel)",
   "language": "python",
   "name": "python3"
  },
  "language_info": {
   "codemirror_mode": {
    "name": "ipython",
    "version": 3
   },
   "file_extension": ".py",
   "mimetype": "text/x-python",
   "name": "python",
   "nbconvert_exporter": "python",
   "pygments_lexer": "ipython3",
   "version": "3.9.7"
  }
 },
 "nbformat": 4,
 "nbformat_minor": 5
}
